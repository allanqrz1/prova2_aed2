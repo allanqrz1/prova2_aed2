{
 "cells": [
  {
   "cell_type": "code",
   "execution_count": null,
   "id": "16635916",
   "metadata": {},
   "outputs": [
    {
     "name": "stdout",
     "output_type": "stream",
     "text": [
      "Lista Original: [29, 10, 14, 37, 13]\n",
      "Lista ordenada: [10, 13, 14, 29, 37]\n"
     ]
    }
   ],
   "source": [
    "def selectionSort(arr):\n",
    "    for i in range (len(arr)):\n",
    "        min_idx = i \n",
    "        for j in range (i +1, len(arr)):\n",
    "            if arr[j] < arr[min_idx]:\n",
    "                min_idx = j \n",
    "        arr[i], arr[min_idx] = arr[min_idx], arr[i]\n",
    "    return arr\n",
    "\n",
    "lista = [29, 10, 14, 37, 13]\n",
    "print (\"Lista Original:\", lista)\n",
    "print (\"Lista ordenada:\", selectionSort(lista))\n",
    "\n"
   ]
  },
  {
   "cell_type": "code",
   "execution_count": null,
   "id": "7068f73b",
   "metadata": {},
   "outputs": [
    {
     "name": "stdout",
     "output_type": "stream",
     "text": [
      "Maior elemento: 37\n"
     ]
    }
   ],
   "source": [
    "sorted_list = selectionSort(lista)\n",
    "\n",
    "\n",
    "def find_max(lista_ordenada):\n",
    "\n",
    "    return lista_ordenada[-1]\n",
    "\n",
    "\n",
    "print(\"Maior elemento:\", find_max(sorted_list))"
   ]
  },
  {
   "cell_type": "code",
   "execution_count": null,
   "id": "32cd7b6f",
   "metadata": {},
   "outputs": [],
   "source": []
  }
 ],
 "metadata": {
  "kernelspec": {
   "display_name": "Python 3",
   "language": "python",
   "name": "python3"
  },
  "language_info": {
   "codemirror_mode": {
    "name": "ipython",
    "version": 3
   },
   "file_extension": ".py",
   "mimetype": "text/x-python",
   "name": "python",
   "nbconvert_exporter": "python",
   "pygments_lexer": "ipython3",
   "version": "3.13.3"
  }
 },
 "nbformat": 4,
 "nbformat_minor": 5
}
